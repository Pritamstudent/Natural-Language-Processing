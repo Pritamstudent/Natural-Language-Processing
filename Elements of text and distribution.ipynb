{
 "cells": [
  {
   "cell_type": "markdown",
   "id": "4cf8a8e1",
   "metadata": {},
   "source": [
    "**Token**: We will token the sentence using nltk"
   ]
  },
  {
   "cell_type": "code",
   "execution_count": 1,
   "id": "ab02b9c5",
   "metadata": {},
   "outputs": [
    {
     "name": "stdout",
     "output_type": "stream",
     "text": [
      "['I', 'love', 'my', 'India', 'from', 'my', 'heart', 'and', 'I', 'love', 'my', 'India', 'from', 'my', 'heart', '.']\n"
     ]
    }
   ],
   "source": [
    "import nltk\n",
    "sentence = \"I love my India from my heart and I love my India from my heart .\"\n",
    "print(nltk.word_tokenize(sentence))"
   ]
  },
  {
   "cell_type": "markdown",
   "id": "cc65e018",
   "metadata": {},
   "source": [
    "**Vocabulary**\n",
    "The vocabulary of a text is the set of all unique tokens used in it."
   ]
  },
  {
   "cell_type": "code",
   "execution_count": 2,
   "id": "b739159d",
   "metadata": {},
   "outputs": [
    {
     "name": "stdout",
     "output_type": "stream",
     "text": [
      "['.', 'I', 'India', 'and', 'from', 'heart', 'love', 'my']\n"
     ]
    }
   ],
   "source": [
    "tokens = nltk.word_tokenize(sentence)\n",
    "vocab = sorted(set(tokens))\n",
    "print(vocab)"
   ]
  },
  {
   "cell_type": "markdown",
   "id": "9c3f37d1",
   "metadata": {},
   "source": [
    "**Punctuation**\n",
    "Punctuation refers to symbols used  to separate sentences and their elements and to clarify meaning."
   ]
  },
  {
   "cell_type": "code",
   "execution_count": 3,
   "id": "169b001a",
   "metadata": {},
   "outputs": [
    {
     "name": "stdout",
     "output_type": "stream",
     "text": [
      "['I', 'India', 'and', 'from', 'heart', 'love', 'my']\n"
     ]
    }
   ],
   "source": [
    "from string import punctuation\n",
    "vocab_without_punch = []\n",
    "for i in vocab:\n",
    "    if i not in punctuation:\n",
    "        vocab_without_punch.append(i)\n",
    "\n",
    "print(vocab_without_punch)"
   ]
  },
  {
   "cell_type": "markdown",
   "id": "e686eeae",
   "metadata": {},
   "source": [
    "**Parts Of Speech**"
   ]
  },
  {
   "cell_type": "code",
   "execution_count": 4,
   "id": "6292dade",
   "metadata": {},
   "outputs": [
    {
     "name": "stdout",
     "output_type": "stream",
     "text": [
      "[('I', 'PRP'), ('India', 'NNP'), ('and', 'CC'), ('from', 'IN'), ('heart', 'NN'), ('love', 'VB'), ('my', 'PRP$')]\n"
     ]
    },
    {
     "name": "stderr",
     "output_type": "stream",
     "text": [
      "[nltk_data] Downloading package averaged_perceptron_tagger to\n",
      "[nltk_data]     C:\\Users\\GOD WORLD\\AppData\\Roaming\\nltk_data...\n",
      "[nltk_data]   Package averaged_perceptron_tagger is already up-to-\n",
      "[nltk_data]       date!\n"
     ]
    }
   ],
   "source": [
    "from nltk import pos_tag\n",
    "nltk.download('averaged_perceptron_tagger')\n",
    "pos_list = pos_tag(vocab_without_punch)\n",
    "print(pos_list)"
   ]
  },
  {
   "cell_type": "markdown",
   "id": "a1a6514a",
   "metadata": {},
   "source": [
    "**Root of a word - Stemming**\n",
    "Stemming is a technique used to find the root form of a word. In the root form a word is devoid of any affixes (suffixes and prefixes)"
   ]
  },
  {
   "cell_type": "code",
   "execution_count": 5,
   "id": "7dad944b",
   "metadata": {},
   "outputs": [
    {
     "data": {
      "text/plain": [
       "'studi'"
      ]
     },
     "execution_count": 5,
     "metadata": {},
     "output_type": "execute_result"
    }
   ],
   "source": [
    "from nltk.stem.snowball import SnowballStemmer\n",
    "stemObj = SnowballStemmer(\"english\")\n",
    "stemObj.stem(\"Studying\")"
   ]
  },
  {
   "cell_type": "code",
   "execution_count": 6,
   "id": "a030f837",
   "metadata": {},
   "outputs": [
    {
     "name": "stdout",
     "output_type": "stream",
     "text": [
      "['i', 'india', 'and', 'from', 'heart', 'love', 'my']\n"
     ]
    }
   ],
   "source": [
    "stemmed_vocab = []\n",
    "for i in vocab_without_punch:\n",
    "    stemmed_vocab.append(stemObj.stem(i))\n",
    "    \n",
    "print(stemmed_vocab)"
   ]
  },
  {
   "cell_type": "code",
   "execution_count": 7,
   "id": "0b89d4a8",
   "metadata": {},
   "outputs": [
    {
     "name": "stdout",
     "output_type": "stream",
     "text": [
      "go\n"
     ]
    }
   ],
   "source": [
    "from nltk.stem.wordnet import WordNetLemmatizer\n",
    "lemmaObj = WordNetLemmatizer()\n",
    "print(lemmaObj.lemmatize(\"went\",pos=\"v\"))"
   ]
  },
  {
   "cell_type": "markdown",
   "id": "ae795753",
   "metadata": {},
   "source": [
    "**Stop words**\n",
    "Stop words are typically the most commonly occurring words in text like 'the', 'and', 'is', etc."
   ]
  },
  {
   "cell_type": "code",
   "execution_count": 8,
   "id": "582b8e33",
   "metadata": {},
   "outputs": [
    {
     "name": "stdout",
     "output_type": "stream",
     "text": [
      "['I', 'India', 'heart', 'love']\n"
     ]
    }
   ],
   "source": [
    "from nltk.corpus import stopwords\n",
    "wo_stop_words  = []\n",
    "stop_words_set = set(stopwords.words(\"english\"))\n",
    "for i in vocab_without_punch:\n",
    "    if i not in stop_words_set:\n",
    "        wo_stop_words.append(i)\n",
    "        \n",
    "print(wo_stop_words)"
   ]
  },
  {
   "cell_type": "markdown",
   "id": "d7309bd0",
   "metadata": {},
   "source": [
    "**N-gram** is a contiguous sequence of n items from a given sample of text or speech. NLTK provides with methods to extract n-grams from text"
   ]
  },
  {
   "cell_type": "code",
   "execution_count": 10,
   "id": "67700839",
   "metadata": {},
   "outputs": [
    {
     "name": "stdout",
     "output_type": "stream",
     "text": [
      "[('I', 'India'), ('India', 'and'), ('and', 'from'), ('from', 'heart'), ('heart', 'love'), ('love', 'my')]\n"
     ]
    }
   ],
   "source": [
    "from nltk import ngrams\n",
    "bigrams = ngrams(vocab_without_punch, 2)\n",
    "print(list(bigrams))"
   ]
  },
  {
   "cell_type": "code",
   "execution_count": 11,
   "id": "60cc1263",
   "metadata": {},
   "outputs": [
    {
     "name": "stdout",
     "output_type": "stream",
     "text": [
      "[('I', 'India', 'and'), ('India', 'and', 'from'), ('and', 'from', 'heart'), ('from', 'heart', 'love'), ('heart', 'love', 'my')]\n"
     ]
    }
   ],
   "source": [
    "trigrams = ngrams(vocab_without_punch, 3)\n",
    "print(list(trigrams))"
   ]
  },
  {
   "cell_type": "code",
   "execution_count": null,
   "id": "09b5b0cb",
   "metadata": {},
   "outputs": [],
   "source": []
  }
 ],
 "metadata": {
  "kernelspec": {
   "display_name": "Python 3 (ipykernel)",
   "language": "python",
   "name": "python3"
  },
  "language_info": {
   "codemirror_mode": {
    "name": "ipython",
    "version": 3
   },
   "file_extension": ".py",
   "mimetype": "text/x-python",
   "name": "python",
   "nbconvert_exporter": "python",
   "pygments_lexer": "ipython3",
   "version": "3.10.4"
  }
 },
 "nbformat": 4,
 "nbformat_minor": 5
}
