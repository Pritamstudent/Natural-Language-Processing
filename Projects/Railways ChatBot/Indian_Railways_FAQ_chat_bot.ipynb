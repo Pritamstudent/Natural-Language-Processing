{
  "nbformat": 4,
  "nbformat_minor": 0,
  "metadata": {
    "colab": {
      "provenance": []
    },
    "kernelspec": {
      "name": "python3",
      "display_name": "Python 3"
    },
    "language_info": {
      "name": "python"
    }
  },
  "cells": [
    {
      "cell_type": "markdown",
      "source": [
        "#Load the modules into the environment"
      ],
      "metadata": {
        "id": "DCdXGsPHQ6R6"
      }
    },
    {
      "cell_type": "markdown",
      "source": [
        "Our aim here is to create a bot that will take in different kinds of questions from the user and effectively choose a response from its predefined list of responses. Let us begin by importing the necessary modules."
      ],
      "metadata": {
        "id": "AE8m2AdHRAaa"
      }
    },
    {
      "cell_type": "code",
      "execution_count": 21,
      "metadata": {
        "id": "pehfPbH_Q2kV",
        "colab": {
          "base_uri": "https://localhost:8080/"
        },
        "outputId": "89a160c0-ee8f-48aa-f5a4-1491bc12ced9"
      },
      "outputs": [
        {
          "output_type": "stream",
          "name": "stderr",
          "text": [
            "[nltk_data] Downloading package stopwords to /root/nltk_data...\n",
            "[nltk_data]   Package stopwords is already up-to-date!\n",
            "[nltk_data] Downloading package wordnet to /root/nltk_data...\n"
          ]
        },
        {
          "output_type": "execute_result",
          "data": {
            "text/plain": [
              "True"
            ]
          },
          "metadata": {},
          "execution_count": 21
        }
      ],
      "source": [
        "import nltk\n",
        "from nltk.chat.util import Chat, reflections\n",
        "from sys import version_info\n",
        "from string import punctuation\n",
        "from nltk.corpus import stopwords\n",
        "from nltk.tokenize import word_tokenize\n",
        "from nltk.stem import PorterStemmer, WordNetLemmatizer\n",
        "nltk.download('stopwords')\n",
        "nltk.download('wordnet')"
      ]
    },
    {
      "cell_type": "markdown",
      "source": [
        "# Create appropriate responses for the bots to output"
      ],
      "metadata": {
        "id": "hdeKaf7RSj2q"
      }
    },
    {
      "cell_type": "markdown",
      "source": [
        "We create pairs of how a question should be and what its response is. Our bot would find the question the input is closest to and output its response related to this question."
      ],
      "metadata": {
        "id": "PICnXalXSqoB"
      }
    },
    {
      "cell_type": "code",
      "source": [
        "pairs = [[r\"How can I avail internet reservation facility through credit cards?\",['Recently internet reservation facility has started on Indian Railways. The web site http://www.irctc.co.in is operational, wherein you can get the railway reservation done through Credit Cards.For more on Reservation through credit cards click here Internet Reservation',]],[r'Why are PNR and reservation availability queries not available after certain timings at night?',['The online PNR and seat availability queries are fetched from the computerized reservation applications. These online reservation applications are shut down daily around 2330 hrs to 0030 hrs IST. Due to the dynamic changes taking place in the PNR status updation and the availability positions, these two types of queries have to be fetched from the online reservation applications, hence the non- availability of them after certain timings. The sheer size of these databases does not allow them to be copied over network lines.Please note that the web site is functional 24 hrs. a day and other queries (trains between any two stations, fare queries, etc.) are functional throughout the day.',]],[r'How can I avail the enquiries, through SMS on mobile phones?',['Now all the enquiries offered on the web site www.indianrail.gov.in are available on your mobile phone through SMS facility. For more information on the mobile service providers and the key words to be used on the mobile, please click here, SMS help . Please note that we are giving the backend service only for the SMS queries. For more information and help on key words and SMS facility, kindly contact the mobile service provider according to the table.',]],[r'Why do sometimes the fonts, colors schemes and java scripts behave differently in some browser or browsers?',['This web site is best viewed with Microsoft Internet Explorer 6.0 and above. It might not give desired results with other browsers. All the pages, color schemes and scripts have been tested for IE 6.0 and above. ',]],[r'Where can I get the latest arrival and departure timings of trains, when they get delayed?',['The latest arrival and departure timings of delayed trains, alongwith diverted routes etc. will be made available shortly on this web site only.',]],[r'Where can I lodge complaint against any type of grievances in the Trains, Platforms, officials for problems on this web site and give suggestions?',['The complaint software is presently under development. We try our best to forward your grievances to the concerned department. However please note that this is not always possible. Please note that all your complaints and suggestions for the improvement of the web site http://www.indianrail.gov.in can be put on the Feedback & suggestions page. Please note that, in case of any problems, give the query type (hyper link), the inputs which you gave, and the exact error message generated by this web site. All this will help us in solving the problems quickly. In the absence of such inputs, we cannot solve the problems.',]],]"
      ],
      "metadata": {
        "id": "feaBU4qVSeMu"
      },
      "execution_count": 22,
      "outputs": []
    },
    {
      "cell_type": "markdown",
      "source": [
        "# Preprocessing"
      ],
      "metadata": {
        "id": "gvVRGY3ax07P"
      }
    },
    {
      "cell_type": "code",
      "source": [
        "def unique(list1):\n",
        "\n",
        "  # Let us initialize the empty list\n",
        "  unique_list = []\n",
        "\n",
        "  # Let us traverse all the elements\n",
        "  for x in list1:\n",
        "\n",
        "    if x not in unique_list:\n",
        "      unique_list.append(x)\n",
        "\n",
        "  return unique_list\n",
        "\n"
      ],
      "metadata": {
        "id": "OfSluzDaSt5t"
      },
      "execution_count": 23,
      "outputs": []
    },
    {
      "cell_type": "code",
      "source": [
        "lemmatizer = WordNetLemmatizer()\n",
        "\n",
        "def preprocessing(sent):\n",
        "\n",
        "  rem_words = ['get', 'avail', 'who' , 'where', 'how' , 'what', 'why' , 'when', 'I', 'can']\n",
        "\n",
        "  for  p in list(punctuation):\n",
        "\n",
        "    sent = sent.replace(p, '')\n",
        "\n",
        "  sent = sent.lower().split()\n",
        "\n",
        "  # Remove the stop-words\n",
        "  stop_words = set(stopwords.words('english'))\n",
        "  sent  = [i for i in sent if not i in stop_words]\n",
        "  sent  = [i for i in sent if not i in rem_words]\n",
        "\n",
        "  sent = [lemmatizer.lemmatize(item, pos=\"v\") for item in sent]\n",
        "  return (unique(sent))\n",
        "\n"
      ],
      "metadata": {
        "id": "7gGaHZz6ySA9"
      },
      "execution_count": 24,
      "outputs": []
    },
    {
      "cell_type": "markdown",
      "source": [
        "# Create the bot"
      ],
      "metadata": {
        "id": "8nylpuhfz0SE"
      }
    },
    {
      "cell_type": "code",
      "source": [
        "def tellme_bot():\n",
        "\n",
        "  while(1):\n",
        "\n",
        "    response = input(\"Tell Me. [q to quit]>\")\n",
        "    if response == 'q':\n",
        "      break\n",
        "\n",
        "    i = 0\n",
        "    chosen = len(pairs)\n",
        "    matches = 0\n",
        "    list_response = preprocessing(response)\n",
        "\n",
        "    while( i < len(pairs)):\n",
        "\n",
        "      loc_matches = 0\n",
        "      x = pairs[i][0] + \" \".join(pairs[i][1])\n",
        "      list_pair = preprocessing(x)\n",
        "\n",
        "      for word in list_pair:\n",
        "        if word in list_response:\n",
        "          loc_matches = loc_matches + 1\n",
        "\n",
        "      if loc_matches > matches:\n",
        "\n",
        "        chosen = i\n",
        "        matches = loc_matches\n",
        "      i = i + 1\n",
        "\n",
        "    if chosen < len(pairs) :\n",
        "\n",
        "      ans = pairs[chosen][1]\n",
        "      print(ans[0])\n",
        "\n",
        "    else:\n",
        "\n",
        "      print(\"Unable to answer this question\")\n",
        "\n",
        "    break\n",
        "\n"
      ],
      "metadata": {
        "id": "s_veX000zmI7"
      },
      "execution_count": 25,
      "outputs": []
    },
    {
      "cell_type": "code",
      "source": [
        "tellme_bot()"
      ],
      "metadata": {
        "colab": {
          "base_uri": "https://localhost:8080/"
        },
        "id": "6JGz0b-D1nYj",
        "outputId": "6be06567-a260-4c20-c2f9-561f532e8f77"
      },
      "execution_count": 27,
      "outputs": [
        {
          "output_type": "stream",
          "name": "stdout",
          "text": [
            "Tell Me. [q to quit]>how to book movie ticket\n",
            "Unable to answer this question\n"
          ]
        }
      ]
    },
    {
      "cell_type": "code",
      "source": [],
      "metadata": {
        "id": "NDlbEKI31o_H"
      },
      "execution_count": 26,
      "outputs": []
    }
  ]
}